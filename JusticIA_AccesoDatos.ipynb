{
  "nbformat": 4,
  "nbformat_minor": 0,
  "metadata": {
    "colab": {
      "name": "JusticIA_AccesoDatos.ipynb",
      "provenance": [],
      "collapsed_sections": [],
      "include_colab_link": true
    },
    "kernelspec": {
      "name": "python3",
      "display_name": "Python 3"
    },
    "language_info": {
      "name": "python"
    }
  },
  "cells": [
    {
      "cell_type": "markdown",
      "metadata": {
        "id": "view-in-github",
        "colab_type": "text"
      },
      "source": [
        "<a href=\"https://colab.research.google.com/github/georgetegral/ASPNETTut/blob/master/JusticIA_AccesoDatos.ipynb\" target=\"_parent\"><img src=\"https://colab.research.google.com/assets/colab-badge.svg\" alt=\"Open In Colab\"/></a>"
      ]
    },
    {
      "cell_type": "markdown",
      "metadata": {
        "id": "HU6ps-zkwXr6"
      },
      "source": [
        "## Instalar dependencias \n",
        "\n",
        "Se usarán las siguientes librerías:\n",
        "* pdf2image: Librería para convertir automáticamente archivos .pdf a .jpg.\n",
        "* pillow: Librería de imágenes de Python, se usa para manipular imágenes.\n",
        "* requests: Librería de llamadas http, se usa para llamar a los endpoints en Azure.\n",
        "* condacolab: Implementación de anaconda en Google Colab, requerido para instalar un requerimiento de pdf2image, \"poppler\".\n",
        "\n",
        "Finalmente, importamos drive de google.colab.\n",
        "\n",
        "Nota: cuando Poppler se instala por primera vez, este reinicia el kernel automáticamente."
      ]
    },
    {
      "cell_type": "code",
      "metadata": {
        "colab": {
          "base_uri": "https://localhost:8080/"
        },
        "id": "4bZMUMbNwmel",
        "outputId": "64a35704-b674-437b-9c6d-1b36e8c2973c"
      },
      "source": [
        "!pip install pdf2image\n",
        "!pip install pillow\n",
        "!pip install requests\n",
        "!pip install -q condacolab\n",
        "import condacolab\n",
        "condacolab.install()\n",
        "!conda install -c conda-forge poppler"
      ],
      "execution_count": 15,
      "outputs": [
        {
          "output_type": "stream",
          "text": [
            "Requirement already satisfied: pdf2image in /usr/local/lib/python3.7/site-packages (1.16.0)\n",
            "Requirement already satisfied: pillow in /usr/local/lib/python3.7/site-packages (from pdf2image) (8.3.1)\n",
            "Requirement already satisfied: pillow in /usr/local/lib/python3.7/site-packages (8.3.1)\n",
            "Requirement already satisfied: requests in /usr/local/lib/python3.7/site-packages (2.25.1)\n",
            "Requirement already satisfied: chardet<5,>=3.0.2 in /usr/local/lib/python3.7/site-packages (from requests) (4.0.0)\n",
            "Requirement already satisfied: idna<3,>=2.5 in /usr/local/lib/python3.7/site-packages (from requests) (2.10)\n",
            "Requirement already satisfied: urllib3<1.27,>=1.21.1 in /usr/local/lib/python3.7/site-packages (from requests) (1.26.3)\n",
            "Requirement already satisfied: certifi>=2017.4.17 in /usr/local/lib/python3.7/site-packages (from requests) (2021.5.30)\n",
            "✨🍰✨ Everything looks OK!\n",
            "Collecting package metadata (current_repodata.json): - \b\b\\ \b\b| \b\b/ \b\b- \b\b\\ \b\b| \b\b/ \b\b- \b\b\\ \b\b| \b\b/ \b\b- \b\b\\ \b\b| \b\b/ \b\bdone\n",
            "Solving environment: \\ \b\b| \b\b/ \b\b- \b\b\\ \b\b| \b\b/ \b\b- \b\b\\ \b\b| \b\b/ \b\b- \b\b\\ \b\b| \b\b/ \b\b- \b\b\\ \b\b| \b\bdone\n",
            "\n",
            "# All requested packages already installed.\n",
            "\n"
          ],
          "name": "stdout"
        }
      ]
    },
    {
      "cell_type": "code",
      "metadata": {
        "colab": {
          "base_uri": "https://localhost:8080/"
        },
        "id": "QkbvXnl-6JER",
        "outputId": "8865f830-c34f-49b0-fb7f-5a679dea4457"
      },
      "source": [
        "from google.colab import drive\n",
        "drive.mount('/content/drive')"
      ],
      "execution_count": 16,
      "outputs": [
        {
          "output_type": "stream",
          "text": [
            "Drive already mounted at /content/drive; to attempt to forcibly remount, call drive.mount(\"/content/drive\", force_remount=True).\n"
          ],
          "name": "stdout"
        }
      ]
    },
    {
      "cell_type": "markdown",
      "metadata": {
        "id": "2ORRf0qK0Yx5"
      },
      "source": [
        "## Directorios\n",
        "Aquí se definen los directorios para el proceso, el primero es el directorio donde se encuentran las imágenes, y el segundo directorio es donde se almacenan las imágenes procesadas.\n",
        "\n",
        "Recuerda poner el directorio con \"/\" al final."
      ]
    },
    {
      "cell_type": "code",
      "metadata": {
        "id": "k-opXlb70Wxh"
      },
      "source": [
        "#path = 'drive/MyDrive/Datos - Hackathon JusticIA/Expedientes/'\n",
        "path = 'drive/MyDrive/Colab Notebooks/RII AA Hackathon/imgtest/'\n",
        "pathResult = 'drive/MyDrive/Colab Notebooks/RII AA Hackathon/imgtestresult/'"
      ],
      "execution_count": 17,
      "outputs": []
    },
    {
      "cell_type": "markdown",
      "metadata": {
        "id": "midR-avi3gbi"
      },
      "source": [
        "## Copiar archivos\n",
        "Se copian los archivos del directorio 1 al directorio 2.\n",
        "\n",
        "Esto se hace para no alterar los archivos originales."
      ]
    },
    {
      "cell_type": "code",
      "metadata": {
        "colab": {
          "base_uri": "https://localhost:8080/"
        },
        "id": "K2wcNWLy3b1S",
        "outputId": "61e659cc-9ad8-4e52-a620-5303ba242919"
      },
      "source": [
        "from distutils.dir_util import copy_tree\n",
        "copy_tree(path, pathResult)"
      ],
      "execution_count": 18,
      "outputs": [
        {
          "output_type": "execute_result",
          "data": {
            "text/plain": [
              "['drive/MyDrive/Colab Notebooks/RII AA Hackathon/imgtestresult/izquierda.jpg',\n",
              " 'drive/MyDrive/Colab Notebooks/RII AA Hackathon/imgtestresult/abajo.jpg',\n",
              " 'drive/MyDrive/Colab Notebooks/RII AA Hackathon/imgtestresult/derecha.jpg',\n",
              " 'drive/MyDrive/Colab Notebooks/RII AA Hackathon/imgtestresult/arriba.jpg',\n",
              " 'drive/MyDrive/Colab Notebooks/RII AA Hackathon/imgtestresult/jpg2pdf.pdf']"
            ]
          },
          "metadata": {},
          "execution_count": 18
        }
      ]
    },
    {
      "cell_type": "markdown",
      "metadata": {
        "id": "lKTDkcSD43ZV"
      },
      "source": [
        "## Verificar copiado\n",
        "\n",
        "Podemos verificar que se copiaron los archivos haciendo una muestra del segundo directorio."
      ]
    },
    {
      "cell_type": "code",
      "metadata": {
        "colab": {
          "base_uri": "https://localhost:8080/"
        },
        "id": "C-e99jygddE7",
        "outputId": "ce934343-9fac-47bf-e038-6ce75cb35cc6"
      },
      "source": [
        "import PIL\n",
        "from glob import glob\n",
        "from random import sample\n",
        "\n",
        "files = glob(pathResult+'*.*')\n",
        "files = sample(files, 5)\n",
        "\n",
        "for file_name in files:\n",
        "    print(file_name)"
      ],
      "execution_count": 19,
      "outputs": [
        {
          "output_type": "stream",
          "text": [
            "drive/MyDrive/Colab Notebooks/RII AA Hackathon/imgtestresult/arriba.jpg\n",
            "drive/MyDrive/Colab Notebooks/RII AA Hackathon/imgtestresult/jpg2pdf.pdf\n",
            "drive/MyDrive/Colab Notebooks/RII AA Hackathon/imgtestresult/derecha.jpg\n",
            "drive/MyDrive/Colab Notebooks/RII AA Hackathon/imgtestresult/jpg2pdf.jpg\n",
            "drive/MyDrive/Colab Notebooks/RII AA Hackathon/imgtestresult/resultados.csv\n"
          ],
          "name": "stdout"
        }
      ]
    },
    {
      "cell_type": "markdown",
      "metadata": {
        "id": "UZ-roEer0LpY"
      },
      "source": [
        "# Métodos necesarios\n",
        "Se utilizarán los siguientes métodos en nuestro pipeline"
      ]
    },
    {
      "cell_type": "code",
      "metadata": {
        "id": "9jv6Amhw1awy"
      },
      "source": [
        "import os\n",
        "import sys\n",
        "from PIL import Image, ImageOps\n",
        "from pdf2image import convert_from_path\n",
        "from math import ceil, floor\n",
        "import requests\n",
        "import json\n",
        "import csv\n",
        "import time\n",
        "\n",
        "#Function to check if returned JSON has all the necessary fields in each nested field of the JSON\n",
        "def checkValueField(rs,field,i,var):\n",
        "    val = \"\"\n",
        "    try:\n",
        "        val = rs[field][i][var]\n",
        "    except ValueError:\n",
        "        val = \"\"\n",
        "    except KeyError:\n",
        "        val = \"\"\n",
        "    finally:\n",
        "        return val\n",
        "\n",
        "def convertPdf(path, file):\n",
        "    s = time.perf_counter()\n",
        "    fullpath = path + file\n",
        "    images = convert_from_path(fullpath)\n",
        "    name = file.split('.pdf')[0]\n",
        "    nameJpg = name +'.jpg'\n",
        "    for i in range(len(images)):\n",
        "        # Save pages as images in the pdf\n",
        "        images[i].save(path + nameJpg, 'JPEG')\n",
        "    print(f'convertPdf in {time.perf_counter() - s:0.2f} seconds.')\n",
        "    return nameJpg\n",
        "\n",
        "def orientationModel(path, file):\n",
        "    s = time.perf_counter()\n",
        "    #Request to orientation model\n",
        "    with open(path+file, 'rb') as f:\n",
        "        data = f.read()\n",
        "    req = requests.post(\n",
        "        url=\"https://cscvriia-prediction.cognitiveservices.azure.com/customvision/v3.0/Prediction/2bb8fee1-6413-418c-9c6e-3c41629397ce/classify/iterations/Iteration2/image\",\n",
        "        headers={\n",
        "            \"Content-Type\": \"application/octet-stream\",\n",
        "            \"Prediction-Key\": \"bac8aef998f94f04b527450124a7864a\"\n",
        "        },\n",
        "        data = data\n",
        "    )\n",
        "    result = json.loads(req.content)\n",
        "    tag = result['predictions'][0]['tagName']\n",
        "    print(f'orientationModel in {time.perf_counter() - s:0.2f} seconds.')\n",
        "    return int(tag)\n",
        "\n",
        "def removeExif(path, file):\n",
        "    s = time.perf_counter()\n",
        "\n",
        "    fullpath = path + file\n",
        "    try:\n",
        "      im = Image.open(fullpath)\n",
        "      # next 4 lines strip exif metadata\n",
        "      data = list(im.getdata())\n",
        "      im = Image.new(im.mode, im.size)\n",
        "      im.putdata(data)\n",
        "      im.save(fullpath)\n",
        "    except IOError:\n",
        "      return\n",
        "    \n",
        "    print(f'removeExif in {time.perf_counter() - s:0.2f} seconds.')\n",
        "\n",
        "def rotateFile(path, file, orientation):\n",
        "    fullpath = path + file\n",
        "    im = Image.open(fullpath)\n",
        "\n",
        "    if orientation == 90:\n",
        "        im = im.transpose(Image.ROTATE_90)\n",
        "        im.save(fullpath,'JPEG')\n",
        "\n",
        "    elif orientation == 180:\n",
        "        im = im.transpose(Image.ROTATE_180)\n",
        "        im.save(fullpath,'JPEG')\n",
        "\n",
        "    elif orientation == 270:\n",
        "        im = im.transpose(Image.ROTATE_270)\n",
        "        im.save(fullpath,'JPEG')\n",
        "\n",
        "def getImageSize(path, file):\n",
        "    im = Image.open(path+file)\n",
        "    return int(im.width),int(im.height)\n",
        "\n",
        "def roundNum(num):\n",
        "    decimal = num % 1\n",
        "    if decimal >= .5:\n",
        "        return ceil(num)\n",
        "    else:\n",
        "        return floor(num)\n",
        "\n",
        "def calculateBoundingBox(left, top, width, height, widthImg, heightImg):\n",
        "    #https://stackoverflow.com/questions/53737055/bounding-box-left-top-height-width-to-php-x1-x2-y1-y2-coordinates\n",
        "    w = widthImg *  width\n",
        "    h = heightImg * height\n",
        "\n",
        "    xmin = left * widthImg\n",
        "    ymin = top * heightImg\n",
        "    xmax = xmin + w\n",
        "    ymax = ymin + h\n",
        "\n",
        "    return roundNum(xmin), roundNum(ymin), roundNum(xmax), roundNum(ymax)\n",
        "\n",
        "def objectDetectionModel(path, file, width, height):\n",
        "    s = time.perf_counter()\n",
        "    #request to Object Detection Model\n",
        "    with open(path+file, 'rb') as f:\n",
        "        data = f.read()\n",
        "    req = requests.post(\n",
        "        url=\"https://cscvriia-prediction.cognitiveservices.azure.com/customvision/v3.0/Prediction/c2380253-45d3-4804-9c76-093802973de6/detect/iterations/Iteration3/image\",\n",
        "        headers={\n",
        "            \"Content-Type\": \"application/octet-stream\",\n",
        "            \"Prediction-Key\": \"bac8aef998f94f04b527450124a7864a\"\n",
        "        },\n",
        "        data = data\n",
        "    )\n",
        "    result = json.loads(req.content)\n",
        "    finalResult = {}\n",
        "    #Ignore probability below 0.5\n",
        "    i = 0\n",
        "    acum = 0\n",
        "    while checkValueField(result,'predictions',i,'probability'):\n",
        "        probability = checkValueField(result,'predictions',i,'probability')\n",
        "        if probability >= 0.5:\n",
        "            tagName = checkValueField(result,'predictions',i,'tagName')\n",
        "            boundingBoxLeft = result['predictions'][i]['boundingBox']['left']\n",
        "            boundingBoxTop = result['predictions'][i]['boundingBox']['top']\n",
        "            boundingBoxWidth = result['predictions'][i]['boundingBox']['width']\n",
        "            boundingBoxHeight = result['predictions'][i]['boundingBox']['height']\n",
        "            xmin, ymin, xmax, ymax = calculateBoundingBox(boundingBoxLeft, boundingBoxTop, boundingBoxWidth, boundingBoxHeight, width, height)\n",
        "            finalResult[acum] = [tagName, probability, xmin, ymin, xmax, ymax]\n",
        "            acum += 1\n",
        "        \n",
        "        i += 1\n",
        "\n",
        "    print(f'objectDetectionModel in {time.perf_counter() - s:0.2f} seconds.')\n",
        "    return finalResult\n",
        "\n",
        "def createCsv(csvname, prefix):\n",
        "    with open(prefix+csvname, 'w', newline='') as file:\n",
        "        writer = csv.writer(file)\n",
        "        writer.writerow(['filename','width','height','class','xmin','ymin','xmax','ymax'])\n",
        "\n",
        "def appendCsv(csvname, filename, width, height, result,prefix):\n",
        "    with open(prefix+csvname, 'a+', newline='') as file:\n",
        "        writer = csv.writer(file)\n",
        "        #For loop each result\n",
        "        for i in result:\n",
        "            writer.writerow([filename, width, height, result[i][0], result[i][2], result[i][3], result[i][4], result[i][5]])"
      ],
      "execution_count": 20,
      "outputs": []
    },
    {
      "cell_type": "markdown",
      "metadata": {
        "id": "PIDPP31B6f_k"
      },
      "source": [
        "# Pipeline principal"
      ]
    },
    {
      "cell_type": "code",
      "metadata": {
        "colab": {
          "base_uri": "https://localhost:8080/"
        },
        "id": "GHIQQ1WXdqUh",
        "outputId": "dd0561fd-0212-4068-8f85-b7b75f686a68"
      },
      "source": [
        "s = time.perf_counter()\n",
        "\n",
        "list_of_files = []\n",
        "prefix = pathResult\n",
        "\n",
        "#Leer todos los archivos del directorio\n",
        "for root, dirs, files in os.walk(prefix):\n",
        "    for file in files:\n",
        "        if not file.endswith('.jpg'):\n",
        "            continue\n",
        "        list_of_files.append(os.path.join(file))\n",
        "\n",
        "#Limpiar Fotos\n",
        "for file in list_of_files:\n",
        "    removeExif(prefix, file)\n",
        "\n",
        "#El csv de resultados se guarda en el mismo directorio\n",
        "createCsv('resultados.csv',prefix)\n",
        "\n",
        "for file in list_of_files:\n",
        "    #Si el archivo es pdf, convertirlo a jpg\n",
        "    if file.endswith('.pdf'):\n",
        "        file = convertPdf(prefix, file)\n",
        "    #Obtener la orientacion del archivo\n",
        "    orientation = orientationModel(prefix, file)\n",
        "    #Rotar la imagen\n",
        "    rotateFile(prefix, file, orientation)\n",
        "    #Obtener ancho y largo de la foto\n",
        "    width, height = getImageSize(prefix, file)\n",
        "    #Llamar al modelo de detección de objetos\n",
        "    result = objectDetectionModel(prefix, file, width, height)\n",
        "    #Adjuntar a un csv\n",
        "    appendCsv('resultados.csv', file, width, height, result,prefix)\n",
        "    print(file)\n",
        "    print(\"----------\")\n",
        "\n",
        "\n",
        "print(f'finished in {time.perf_counter() - s:0.2f} seconds.')"
      ],
      "execution_count": 22,
      "outputs": [
        {
          "output_type": "stream",
          "text": [
            "removeExif in 0.64 seconds.\n",
            "removeExif in 0.57 seconds.\n",
            "removeExif in 0.56 seconds.\n",
            "removeExif in 0.56 seconds.\n",
            "removeExif in 0.82 seconds.\n",
            "orientationModel in 0.78 seconds.\n",
            "objectDetectionModel in 1.82 seconds.\n",
            "izquierda.jpg\n",
            "----------\n",
            "orientationModel in 0.67 seconds.\n",
            "objectDetectionModel in 2.04 seconds.\n",
            "abajo.jpg\n",
            "----------\n",
            "orientationModel in 0.89 seconds.\n",
            "objectDetectionModel in 1.79 seconds.\n",
            "derecha.jpg\n",
            "----------\n",
            "orientationModel in 0.70 seconds.\n",
            "objectDetectionModel in 0.89 seconds.\n",
            "arriba.jpg\n",
            "----------\n",
            "orientationModel in 0.77 seconds.\n",
            "objectDetectionModel in 2.43 seconds.\n",
            "jpg2pdf.jpg\n",
            "----------\n",
            "finished in 16.43 seconds.\n"
          ],
          "name": "stdout"
        }
      ]
    }
  ]
}